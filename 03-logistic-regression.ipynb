{
 "metadata": {
  "name": "03-logistic-regression"
 },
 "nbformat": 3,
 "nbformat_minor": 0,
 "worksheets": [
  {
   "cells": [
    {
     "cell_type": "markdown",
     "metadata": {},
     "source": [
      "## Cost function\u7684\u63a8\u5bfc\n",
      "\n",
      "$$ h(\\theta) = \\frac{1}{1+ e^{-w*x}} $$\n",
      "\n",
      "$$ p(y = 1|x;\\theta) = h_{\\theta}(x) $$ \n",
      "$$ p(y = 0|x;\\theta) = 1- h_{\\theta}(x) $$ \n",
      "\n",
      "\u5199\u6210\u66f4\u52a0\u7d27\u51d1\u7684\u5f62\u5f0f\u6709:\n",
      "\n",
      "$$ p(y| x; \\theta) = h_{\\theta}(x)*y * (1 - h_{\\theta}(x) * (1 - y) $$\n",
      "\n",
      "\u5047\u8bbe\u662f\u72ec\u7acb\u7684, \u6240\u4ee5\u4f3c\u7136\u51fd\u6570\u5b9a\u4e49\u5982\u4e0b:\n",
      "\n",
      "$$ L(\\theta) = \\prod p(y^i | \\theta; x^i) $$\n",
      "\n",
      "\u800c\u5bf9\u6570\u4f3c\u7136\u51fd\u6570\u662f:\n",
      "\n",
      "$$ log(L) = \\sum_{i=1}^{m} y^{i} log(h(\\theta)) + (1 - y^i) log (1 - h(\\theta)) $$\n",
      "->\n",
      "$$ \\sum_{i=1}^{m} y^i \\frac{h(\\theta)}{1 - h(\\theta)} - log (1 - h(\\theta)) $$\n",
      "\n",
      "\n",
      "\u56e0\u4e3a $$ log \\frac{h(\\theta)}{1-h(\\theta)} = \\theta *x $$\n",
      "\n",
      "\u6240\u4ee5\u4e0a\u5f0f\u5199\u6210:\n",
      "\n",
      "$$ \\sum_{i=1}^{m} (y^i * \\theta * x - log (1 + e^{\\theta*x}) $$\n",
      "\n",
      "\u5bf9$$$\\theta$$$\u6c42\u504f\u5bfc\u6709:\n",
      "\n",
      "$$ y^{i} x^{i} - \\frac{e^{\\theta*x} * x^{i}}{1+e^{\\theta*x}} $$\n",
      "\n",
      "\u800c $$ h(\\theta) = \\frac{1}{1+ e^{-w*x}} = \\frac{e^{\\theta*x}}{1+e^{\\theta*x}} $$ \u6240\u4ee5\u504f\u5bfc\u53ef\u4ee5\u5199\u6210:\n",
      "\n",
      "$$  (y^{i} - h_{\\theta}(x)) * x^{i} $$\n",
      "\n",
      "## TODO\n",
      "- logistic regression + regualization term\u7684\u504f\u5bfc\u6570\u63a8\u5bfc\n",
      "- why the decision boundary is more smooth after adding regurlization term"
     ]
    },
    {
     "cell_type": "code",
     "collapsed": false,
     "input": [],
     "language": "python",
     "metadata": {},
     "outputs": []
    },
    {
     "cell_type": "code",
     "collapsed": false,
     "input": [],
     "language": "python",
     "metadata": {},
     "outputs": []
    }
   ],
   "metadata": {}
  }
 ]
}